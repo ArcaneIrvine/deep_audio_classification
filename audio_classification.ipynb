{
 "cells": [
  {
   "cell_type": "markdown",
   "metadata": {},
   "source": [
    "### Import dependencies"
   ]
  },
  {
   "cell_type": "code",
   "execution_count": 81,
   "metadata": {},
   "outputs": [],
   "source": [
    "import os\n",
    "from matplotlib import pyplot as plt\n",
    "import tensorflow as tf\n",
    "import tensorflow_io as tfio"
   ]
  },
  {
   "cell_type": "markdown",
   "metadata": {},
   "source": [
    "### Check if Tensorflow identifies the GPU succesfully and set GPU memory consumption growth"
   ]
  },
  {
   "cell_type": "code",
   "execution_count": 82,
   "metadata": {},
   "outputs": [
    {
     "name": "stdout",
     "output_type": "stream",
     "text": [
      "[PhysicalDevice(name='/physical_device:GPU:0', device_type='GPU')]\n"
     ]
    }
   ],
   "source": [
    "# grab all the gpus available in the machine\n",
    "gpus = tf.config.experimental.list_physical_devices('GPU')\n",
    "# check that tensorflow identifies your gpu\n",
    "print(gpus)\n",
    "# for every gpu set memory growth (making tensorflow to keep the memory only to what it needs)\n",
    "for gpu in gpus:\n",
    "    tf.config.experimental.set_memory_growth(gpu, True)"
   ]
  },
  {
   "cell_type": "markdown",
   "metadata": {},
   "source": [
    "### 1) Define paths to data"
   ]
  },
  {
   "cell_type": "code",
   "execution_count": 83,
   "metadata": {},
   "outputs": [],
   "source": [
    "down = os.path.join('data','down')\n",
    "go = os.path.join('data','go')\n",
    "left = os.path.join('data','left')\n",
    "no = os.path.join('data','no')\n",
    "right = os.path.join('data','right')\n",
    "stop = os.path.join('data','stop')\n",
    "up = os.path.join('data','up')\n",
    "yes = os.path.join('data','yes')"
   ]
  },
  {
   "cell_type": "markdown",
   "metadata": {},
   "source": [
    "### 2) Create Tensorflow datasets and label the data"
   ]
  },
  {
   "cell_type": "code",
   "execution_count": 84,
   "metadata": {},
   "outputs": [],
   "source": [
    "def create_dataset_with_labels(class_path, label):\n",
    "    files = tf.data.Dataset.list_files(class_path + '\\*.wav')\n",
    "    labeled_dataset = files.map(lambda x: (x, label))\n",
    "    return labeled_dataset\n",
    "\n",
    "# Create labeled datasets for each class with numeric labels\n",
    "DOWN = create_dataset_with_labels(down, 1.0)\n",
    "GO = create_dataset_with_labels(go, 2.0)\n",
    "LEFT = create_dataset_with_labels(left, 3.0)\n",
    "NO = create_dataset_with_labels(no, 4.0)\n",
    "RIGHT = create_dataset_with_labels(right, 5.0)\n",
    "STOP = create_dataset_with_labels(stop, 6.0)\n",
    "UP = create_dataset_with_labels(up, 7.0)\n",
    "YES = create_dataset_with_labels(yes, 8.0)\n",
    "\n",
    "# Concatenate all datasets\n",
    "data = DOWN.concatenate(GO).concatenate(LEFT).concatenate(NO).concatenate(RIGHT).concatenate(STOP).concatenate(UP).concatenate(YES)"
   ]
  },
  {
   "cell_type": "markdown",
   "metadata": {},
   "source": [
    "### 3) Build dataloading function"
   ]
  },
  {
   "cell_type": "code",
   "execution_count": 85,
   "metadata": {},
   "outputs": [],
   "source": [
    "def load_wav_16k_mono(filename):\n",
    "    # load encoded wav file\n",
    "    contents = tf.io.read_file(filename)\n",
    "\n",
    "    # decode wav (tensors by channels)\n",
    "    wav, sample_rate = tf.audio.decode_wav(contents, desired_channels=1)\n",
    "\n",
    "    # remove trailing axis\n",
    "    wav = tf.squeeze(wav, axis=-1)\n",
    "    sample_rate = tf.cast(sample_rate, dtype=tf.int64)\n",
    "    \n",
    "    return wav"
   ]
  },
  {
   "cell_type": "markdown",
   "metadata": {},
   "source": [
    "### 4) Build preprocessing function"
   ]
  },
  {
   "cell_type": "code",
   "execution_count": 86,
   "metadata": {},
   "outputs": [],
   "source": [
    "def preprocess(file_path, label):\n",
    "    # load data into it's wave form \n",
    "    wav = load_wav_16k_mono(file_path)\n",
    "\n",
    "    # grab only the first 15000 examples from each of the signals\n",
    "    wav = wav[:15000]\n",
    "\n",
    "    # pad with zeros the examples that do not meet the 15000 requirement\n",
    "    zero_padding = tf.zeros([15000] - tf.shape(wav), dtype=tf.float32)\n",
    "    wav = tf.concat([zero_padding, wav],0)\n",
    "\n",
    "    # create a spectogram\n",
    "    spectrogram = tf.signal.stft(wav, frame_length=320, frame_step=32)\n",
    "\n",
    "    # convert to an absolute set of values\n",
    "    spectrogram = tf.abs(spectrogram)\n",
    "\n",
    "    # encapsulate spectogram in a set of arrays\n",
    "    spectrogram = tf.expand_dims(spectrogram, axis=2)\n",
    "    return spectrogram, label"
   ]
  }
 ],
 "metadata": {
  "kernelspec": {
   "display_name": "venv",
   "language": "python",
   "name": "python3"
  },
  "language_info": {
   "codemirror_mode": {
    "name": "ipython",
    "version": 3
   },
   "file_extension": ".py",
   "mimetype": "text/x-python",
   "name": "python",
   "nbconvert_exporter": "python",
   "pygments_lexer": "ipython3",
   "version": "3.9.4"
  }
 },
 "nbformat": 4,
 "nbformat_minor": 2
}
